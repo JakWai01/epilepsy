{
 "cells": [
  {
   "cell_type": "markdown",
   "id": "c7d930bc",
   "metadata": {},
   "source": [
    "# UCI Epileptic Seizure Recognition Data Set"
   ]
  },
  {
   "cell_type": "markdown",
   "id": "9e22cacb",
   "metadata": {},
   "source": [
    "Link to the dataset: https://archive.ics.uci.edu/ml/datasets/Epileptic+Seizure+Recognition"
   ]
  },
  {
   "cell_type": "code",
   "execution_count": 448,
   "id": "4f59d775",
   "metadata": {},
   "outputs": [],
   "source": [
    "import os\n",
    "import numpy as np\n",
    "import pandas as pd\n",
    "from torch.utils.data import Dataset, DataLoader\n",
    "from torch.utils.data.sampler import SubsetRandomSampler\n",
    "import torch.nn as nn\n",
    "import torch.nn.functional as F\n",
    "import torch\n",
    "from torchvision import transforms"
   ]
  },
  {
   "cell_type": "code",
   "execution_count": 449,
   "id": "a290e7dd",
   "metadata": {},
   "outputs": [],
   "source": [
    "class UCIEpilepsy(Dataset):\n",
    "    def __init__(self, data_path):\n",
    "        self.data = pd.read_csv(data_path).iloc[:, 1:].to_numpy().astype(np.single)\n",
    "        \n",
    "    def __len__(self):\n",
    "        return len(self.data)\n",
    "    \n",
    "    def __getitem__(self, idx):        \n",
    "        data = torch.from_numpy(self.data[idx,2:])\n",
    "        label = torch.from_numpy(self.data[idx,178:])\n",
    "        return data, label\n",
    "\n",
    "dataset = UCIEpilepsy(data_path='data/data.csv')\n",
    "batch_size = 64\n",
    "test_split = .2\n",
    "shuffle_dataset = True\n",
    "random_seed = 42\n",
    "dataset_size = len(dataset)\n",
    "\n",
    "# Creating data indices for training and validation splits:\n",
    "indices = list(range(dataset_size))\n",
    "split = int(np.floor(test_split * dataset_size))\n",
    "if shuffle_dataset:\n",
    "    np.random.seed(random_seed)\n",
    "    np.random.shuffle(indices)\n",
    "test_indices, train_indices = indices[:split], indices[split:]\n",
    "\n",
    "# Creating PT data samplers and loaders:\n",
    "train_sampler = SubsetRandomSampler(train_indices)\n",
    "test_sampler = SubsetRandomSampler(test_indices)\n",
    "\n",
    "train_dataloader = DataLoader(dataset, batch_size=batch_size, sampler=train_sampler)\n",
    "test_dataloader = DataLoader(dataset, batch_size=batch_size, sampler=test_sampler)"
   ]
  },
  {
   "cell_type": "code",
   "execution_count": 450,
   "id": "c9944958",
   "metadata": {},
   "outputs": [],
   "source": [
    "class NeuralNetwork(nn.Module):\n",
    "    def __init__(self):\n",
    "        super(NeuralNetwork, self).__init__()\n",
    "        self.linear_relu_stack = nn.Sequential(\n",
    "            nn.Linear(177, 128),\n",
    "            nn.ReLU(),\n",
    "            nn.Linear(128, 128),\n",
    "            nn.ReLU(),\n",
    "            nn.Linear(128, 5),\n",
    "            nn.ReLU()\n",
    "        )\n",
    "        \n",
    "    def forward(self, x):\n",
    "        return self.linear_relu_stack(x)"
   ]
  },
  {
   "cell_type": "code",
   "execution_count": 451,
   "id": "32a7706f",
   "metadata": {},
   "outputs": [
    {
     "name": "stdout",
     "output_type": "stream",
     "text": [
      "NeuralNetwork(\n",
      "  (linear_relu_stack): Sequential(\n",
      "    (0): Linear(in_features=177, out_features=128, bias=True)\n",
      "    (1): ReLU()\n",
      "    (2): Linear(in_features=128, out_features=128, bias=True)\n",
      "    (3): ReLU()\n",
      "    (4): Linear(in_features=128, out_features=5, bias=True)\n",
      "    (5): ReLU()\n",
      "  )\n",
      ")\n"
     ]
    }
   ],
   "source": [
    "model = NeuralNetwork()\n",
    "print(model)"
   ]
  },
  {
   "cell_type": "code",
   "execution_count": 463,
   "id": "5701ee11",
   "metadata": {},
   "outputs": [],
   "source": [
    "import torch.optim as optim"
   ]
  },
  {
   "cell_type": "code",
   "execution_count": 490,
   "id": "7cf20044",
   "metadata": {},
   "outputs": [],
   "source": [
    "def train_loop(dataloader, model, criterion, optimizer):\n",
    "    size = len(dataloader)\n",
    "    for batch, (X, y) in enumerate(dataloader, 0):\n",
    "        outputs = model(X)\n",
    "        loss = criterion(outputs, y.squeeze(1).long()-1)\n",
    "        optimizer.zero_grad()\n",
    "        loss.backward()\n",
    "        optimizer.step()\n",
    "               \n",
    "        if batch % 10 == 0:\n",
    "            loss, current = loss.item(), batch * len(X)\n",
    "            print(f\"loss: {loss:>7f}    [{current:>5d}/{len(dataset):>5d}]\")\n",
    "\n",
    "def test_loop(dataloader, model, criterion):\n",
    "    size = len(dataloader)\n",
    "    test_loss, correct = 0, 0\n",
    "    \n",
    "    with torch.no_grad():\n",
    "        for X, y in dataloader:\n",
    "            outputs = model(X)\n",
    "            test_loss += criterion(outputs, y.squeeze(1).long()-1)\n",
    "            correct += (outputs.argmax(1) == y).type(torch.float).sum().item()\n",
    "            \n",
    "    test_loss /= size\n",
    "    correct /= size\n",
    "    print(f\"Test Error: \\n Accuracy: {(100*correct):>0.1f}%, Avg loss {test_loss:>8f} \\n\")"
   ]
  },
  {
   "cell_type": "code",
   "execution_count": 491,
   "id": "d320689d",
   "metadata": {
    "scrolled": true
   },
   "outputs": [
    {
     "name": "stdout",
     "output_type": "stream",
     "text": [
      "Epoch 1\n",
      "-------------------------------\n",
      "loss: 1.609437    [    0/11500]\n",
      "loss: 1.609437    [  640/11500]\n",
      "loss: 1.609437    [ 1280/11500]\n",
      "loss: 1.609437    [ 1920/11500]\n",
      "loss: 1.609437    [ 2560/11500]\n",
      "loss: 1.609437    [ 3200/11500]\n",
      "loss: 1.609437    [ 3840/11500]\n",
      "loss: 1.609437    [ 4480/11500]\n",
      "loss: 1.609437    [ 5120/11500]\n",
      "loss: 1.609437    [ 5760/11500]\n",
      "loss: 1.609437    [ 6400/11500]\n",
      "loss: 1.609437    [ 7040/11500]\n",
      "loss: 1.609437    [ 7680/11500]\n",
      "loss: 1.609437    [ 8320/11500]\n",
      "loss: 1.609437    [ 8960/11500]\n",
      "Test Error: \n",
      " Accuracy: 0.0%, Avg loss 1.609436 \n",
      "\n",
      "Epoch 2\n",
      "-------------------------------\n",
      "loss: 1.609437    [    0/11500]\n",
      "loss: 1.609437    [  640/11500]\n",
      "loss: 1.609437    [ 1280/11500]\n",
      "loss: 1.609437    [ 1920/11500]\n",
      "loss: 1.609437    [ 2560/11500]\n",
      "loss: 1.609437    [ 3200/11500]\n",
      "loss: 1.609437    [ 3840/11500]\n",
      "loss: 1.609437    [ 4480/11500]\n",
      "loss: 1.609437    [ 5120/11500]\n",
      "loss: 1.609437    [ 5760/11500]\n",
      "loss: 1.609437    [ 6400/11500]\n",
      "loss: 1.609437    [ 7040/11500]\n",
      "loss: 1.609437    [ 7680/11500]\n",
      "loss: 1.609437    [ 8320/11500]\n",
      "loss: 1.609437    [ 8960/11500]\n",
      "Test Error: \n",
      " Accuracy: 0.0%, Avg loss 1.609436 \n",
      "\n",
      "Done\n"
     ]
    }
   ],
   "source": [
    "criterion = nn.CrossEntropyLoss()\n",
    "optimizer = optim.SGD(model.parameters(), lr=0.1, momentum=0.9)\n",
    "epochs = 2\n",
    "\n",
    "for epoch in range(epochs):\n",
    "    print(f\"Epoch {epoch+1}\\n-------------------------------\")\n",
    "    train_loop(train_dataloader, model, criterion, optimizer)\n",
    "    test_loop(test_dataloader, model, criterion)\n",
    "print(\"Done\")"
   ]
  },
  {
   "cell_type": "code",
   "execution_count": null,
   "id": "5240edeb",
   "metadata": {},
   "outputs": [],
   "source": []
  }
 ],
 "metadata": {
  "kernelspec": {
   "display_name": "Python 3",
   "language": "python",
   "name": "python3"
  },
  "language_info": {
   "codemirror_mode": {
    "name": "ipython",
    "version": 3
   },
   "file_extension": ".py",
   "mimetype": "text/x-python",
   "name": "python",
   "nbconvert_exporter": "python",
   "pygments_lexer": "ipython3",
   "version": "3.8.6"
  }
 },
 "nbformat": 4,
 "nbformat_minor": 5
}
