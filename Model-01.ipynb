{
 "cells": [
  {
   "cell_type": "markdown",
   "id": "ca6a26b2",
   "metadata": {},
   "source": [
    "# UCI Epileptic Seizure Recognition Data Set"
   ]
  },
  {
   "cell_type": "markdown",
   "id": "79dca76f",
   "metadata": {},
   "source": [
    "Link to the dataset: https://archive.ics.uci.edu/ml/datasets/Epileptic+Seizure+Recognition"
   ]
  },
  {
   "cell_type": "code",
   "execution_count": 81,
   "id": "8c026a91",
   "metadata": {},
   "outputs": [],
   "source": [
    "import os\n",
    "import numpy as np\n",
    "import pandas as pd\n",
    "from torch.utils.data import Dataset, DataLoader\n",
    "from torch.utils.data.sampler import SubsetRandomSampler"
   ]
  },
  {
   "cell_type": "code",
   "execution_count": 82,
   "id": "22e649db",
   "metadata": {},
   "outputs": [
    {
     "data": {
      "text/plain": [
       "11500"
      ]
     },
     "execution_count": 82,
     "metadata": {},
     "output_type": "execute_result"
    }
   ],
   "source": [
    "path = 'data/'\n",
    "\n",
    "dataset = pd.read_csv(path + 'data.csv')\n",
    "\n",
    "inputs = dataset.iloc[:, 1:179]\n",
    "targets = dataset.iloc[:, 179]\n",
    "\n",
    "len(targets)"
   ]
  },
  {
   "cell_type": "code",
   "execution_count": 83,
   "id": "9d4b8c70",
   "metadata": {},
   "outputs": [],
   "source": [
    "class UCIEpilepsy(Dataset):\n",
    "    def __init__(self, data_path, transform=None, target_transform=None):\n",
    "        self.data = pd.read_csv(data_path)\n",
    "        self.transform = transform\n",
    "        self.target_transform = target_transform\n",
    "        self.data_path = data_path\n",
    "        \n",
    "    def __len__(self):\n",
    "        return len(self.data)\n",
    "    \n",
    "    def __getitem__(self, idx):\n",
    "        data_path = self.data_path\n",
    "        data = print(dataset.iloc[idx, :])\n",
    "        label = data[idx, 178]\n",
    "        if self.transform:\n",
    "            data = self.transform(data)\n",
    "        if self.target_transform: \n",
    "            label = self.target_transform(label)\n",
    "        sample = {\"data\": data, \"label\": label}\n",
    "        \n",
    "dataset = UCIEpilepsy(data_path='data/data.csv')\n",
    "batch_size = 64\n",
    "test_split = .2\n",
    "shuffle_dataset = True\n",
    "random_seed = 42\n",
    "\n",
    "# Creating data indices for training and validation splits:\n",
    "dataset_size = len(dataset)\n",
    "indices = list(range(dataset_size))\n",
    "split = int(np.floor(test_split * dataset_size))\n",
    "if shuffle_dataset:\n",
    "    np.random.seed(random_seed)\n",
    "    np.random.shuffle(indices)\n",
    "train_indices, test_indices = indices[split:], indices[:split]\n",
    "\n",
    "# Creating PT data samplers and loaders:\n",
    "train_sampler = SubsetRandomSampler(train_indices)\n",
    "test_sampler = SubsetRandomSampler(test_indices)\n",
    "\n",
    "train_dataloader = DataLoader(dataset, batch_size=batch_size, sampler=train_sampler)\n",
    "test_dataloader = DataLoader(dataset, batch_size=batch_size, sampler=test_sampler)"
   ]
  }
 ],
 "metadata": {
  "kernelspec": {
   "display_name": "Python 3",
   "language": "python",
   "name": "python3"
  },
  "language_info": {
   "codemirror_mode": {
    "name": "ipython",
    "version": 3
   },
   "file_extension": ".py",
   "mimetype": "text/x-python",
   "name": "python",
   "nbconvert_exporter": "python",
   "pygments_lexer": "ipython3",
   "version": "3.8.6"
  }
 },
 "nbformat": 4,
 "nbformat_minor": 5
}
