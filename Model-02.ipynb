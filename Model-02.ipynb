{
 "cells": [
  {
   "cell_type": "markdown",
   "id": "fda71053",
   "metadata": {},
   "source": [
    "# UCI Epileptic Seizure Recognition Data Set"
   ]
  },
  {
   "cell_type": "code",
   "execution_count": 3,
   "id": "677428d4",
   "metadata": {},
   "outputs": [],
   "source": [
    "# use logistic regression\n",
    "# transform data to either 1 or 0 (0 -> no seizure)"
   ]
  },
  {
   "cell_type": "code",
   "execution_count": 114,
   "id": "4021cc8e",
   "metadata": {},
   "outputs": [],
   "source": [
    "import pandas as pd\n",
    "import torch\n",
    "import torch.nn as nn\n",
    "import torchvision\n",
    "import numpy as np\n",
    "from torch.utils.data import Dataset, DataLoader\n",
    "from sklearn.model_selection import train_test_split"
   ]
  },
  {
   "cell_type": "code",
   "execution_count": 115,
   "id": "3572bf7d",
   "metadata": {},
   "outputs": [],
   "source": [
    "class UCIEpilepsy(Dataset):\n",
    "    def __init__(self):\n",
    "        self.dataset = pd.read_csv('data/data.csv')\n",
    "        self.dataset = self.dataset.replace({'y':[2, 3, 4, 5]}, 0)\n",
    "        self.dataset = self.dataset.iloc[:, 1:].to_numpy().astype(np.single)\n",
    "    def __len__(self):\n",
    "        return len(self.dataset)\n",
    "    \n",
    "    def __getitem__(self, idx):\n",
    "        dataset = torch.from_numpy(self.dataset[idx,2:178])\n",
    "        label = torch.from_numpy(self.dataset[idx,178:])\n",
    "        return dataset, label\n",
    "    \n",
    "    def get_data(self):\n",
    "        return torch.from_numpy(self.dataset[:,2:178])\n",
    "    \n",
    "    def get_targets(self):\n",
    "        return torch.from_numpy(self.dataset[:,178:])\n",
    "    \n",
    "dataset = UCIEpilepsy()"
   ]
  },
  {
   "cell_type": "code",
   "execution_count": 116,
   "id": "7e55f121",
   "metadata": {},
   "outputs": [],
   "source": [
    "class LogisticRegression(nn.Module):\n",
    "    def __init__(self, n_input_features):\n",
    "        super(LogisticRegression, self).__init__()\n",
    "        self.linear = nn.Linear(n_input_features, 1)\n",
    "        \n",
    "    def forward(self, x):\n",
    "        y_predicted = torch.sigmoid(self.linear(x))\n",
    "        return y_predicted"
   ]
  },
  {
   "cell_type": "code",
   "execution_count": 129,
   "id": "625cb238",
   "metadata": {},
   "outputs": [
    {
     "name": "stdout",
     "output_type": "stream",
     "text": [
      "tensor([[0.],\n",
      "        [0.],\n",
      "        [0.],\n",
      "        ...,\n",
      "        [1.],\n",
      "        [0.],\n",
      "        [0.]])\n"
     ]
    }
   ],
   "source": [
    "X, y = dataset.get_data(), dataset.get_targets()\n",
    "\n",
    "n_samples, n_features = X.shape\n",
    "\n",
    "X_train, X_test, y_train, y_test = train_test_split(X, y, test_size=0.2, random_state=1234)\n",
    "\n",
    "sc = StandardScaler()\n",
    "\n",
    "X_train = sc.fit_transform(X_train)\n",
    "X_test = sc.transform(X_test)\n",
    "\n",
    "X_train = torch.from_numpy(X_train.astype(np.float32))\n",
    "X_test = torch.from_numpy(X_test.astype(np.float32))\n",
    "y_train = torch.from_numpy(y_train.astype(np.float32))\n",
    "y_test = torch.from_numpy(y_test.astype(np.float32))\n",
    "\n",
    "y_train = y_train.view(y_train.shape[0], 1)\n",
    "y_test = y_test.view(y_test.shape[0], 1)"
   ]
  },
  {
   "cell_type": "code",
   "execution_count": 181,
   "id": "72c03420",
   "metadata": {},
   "outputs": [
    {
     "name": "stdout",
     "output_type": "stream",
     "text": [
      "epoch: 10, loss = 16.3341\n",
      "accuracy = 0.4526\n"
     ]
    }
   ],
   "source": [
    "model = LogisticRegression(176)\n",
    "learning_rate = 0.01\n",
    "\n",
    "criterion = nn.BCELoss()\n",
    "optimizer = torch.optim.SGD(model.parameters(), lr=learning_rate)\n",
    "\n",
    "num_epochs = 10\n",
    "for epoch in range(num_epochs):\n",
    "    # forward pass and loss\n",
    "    y_predicted = model(X_train)\n",
    "    loss = criterion(y_predicted, y_train)\n",
    "    \n",
    "    # backward pass\n",
    "    loss.backward()\n",
    "    \n",
    "    # updates \n",
    "    optimizer.step()\n",
    "    \n",
    "    # zero gradient\n",
    "    optimizer.zero_grad()\n",
    "    \n",
    "    if (epoch + 1) % 10 == 0:\n",
    "        print(f'epoch: {epoch+1}, loss = {loss.item():.4f}')\n",
    "    \n",
    "with torch.no_grad():\n",
    "    y_predicted = model(X_test)\n",
    "    y_predicted_cls = y_predicted.round()\n",
    "    acc = y_predicted_cls.eq(y_test).sum() / float(y_test.shape[0])\n",
    "    print(f'accuracy = {acc:.4f}')"
   ]
  },
  {
   "cell_type": "code",
   "execution_count": null,
   "id": "16794821",
   "metadata": {},
   "outputs": [],
   "source": []
  }
 ],
 "metadata": {
  "kernelspec": {
   "display_name": "Python 3",
   "language": "python",
   "name": "python3"
  },
  "language_info": {
   "codemirror_mode": {
    "name": "ipython",
    "version": 3
   },
   "file_extension": ".py",
   "mimetype": "text/x-python",
   "name": "python",
   "nbconvert_exporter": "python",
   "pygments_lexer": "ipython3",
   "version": "3.8.6"
  }
 },
 "nbformat": 4,
 "nbformat_minor": 5
}
